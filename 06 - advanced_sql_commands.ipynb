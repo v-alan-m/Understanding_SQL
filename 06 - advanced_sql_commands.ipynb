{
 "cells": [
  {
   "cell_type": "markdown",
   "metadata": {},
   "source": [
    "# Advanced SQL Commands"
   ]
  },
  {
   "cell_type": "markdown",
   "metadata": {},
   "source": [
    "- Timestamps and the extract function\n",
    "- Mathematical functions\n",
    "- String functions and operators\n",
    "- SubQuery\n",
    "- Self-Join"
   ]
  },
  {
   "cell_type": "markdown",
   "metadata": {},
   "source": [
    "## Timestamps\n",
    "- SQL can store data using the timestamp data-type\n",
    "    - Timestamp columns can be created\n",
    "    - Informattion can be extracted from timestamp objects"
   ]
  },
  {
   "cell_type": "markdown",
   "metadata": {},
   "source": [
    "- The PostgreSQL extract function extracts parts from a date\n",
    "    - extract(unit from date)"
   ]
  },
  {
   "attachments": {},
   "cell_type": "markdown",
   "metadata": {},
   "source": [
    "<img src=\"timestamp_objects.png\"> "
   ]
  },
  {
   "cell_type": "markdown",
   "metadata": {},
   "source": [
    "- PostgreSQL datetime operators and functions:\n",
    "    - https://www.postgresql.org/docs/9.6/functions-datetime.html"
   ]
  },
  {
   "cell_type": "markdown",
   "metadata": {},
   "source": [
    "Select the payment dates, from the payment table: <br>\n",
    "\n",
    "*SELECT payment_date FROM payment* <br>\n",
    "<br></br>\n",
    "Extract the days from payment dates, from the payment table: <br>\n",
    "\n",
    "*SELECT extract(days from payment_date) FROM payment* <br>\n",
    "<br></br>\n",
    "Also the select other columns, such as customer_id: <br>\n",
    "\n",
    "*SELECT customer_id, extract(days from payment_date) FROM payment* <br>\n",
    "<br></br>\n",
    "Rename the extracted datestamp information column using AS: <br>\n",
    "\n",
    "*SELECT customer_id, extract(days from payment_date) AS day FROM payment*\n",
    "<br></br>"
   ]
  },
  {
   "cell_type": "markdown",
   "metadata": {},
   "source": [
    "- Calculate the total expendature by month <br>\n",
    "<br></br>\n",
    "*SELECT SUM(amount), extract(month from payment_date) AS month <br></br>\n",
    "FROM payment <br></br>\n",
    "GROUP BY month <br></br>\n",
    "ORDER BY SUM(amount)*"
   ]
  },
  {
   "cell_type": "markdown",
   "metadata": {},
   "source": [
    "- How much was made during the highest grossing month: <br></br>\n",
    "<br></br>\n",
    "*SELECT SUM(amount), extract(month from payment_date) AS month <br></br>\n",
    "FROM payment <br></br>\n",
    "GROUP BY month <br></br>\n",
    "ORDER BY SUM(amount) DESC <br></br>\n",
    "LIMIT 1*"
   ]
  },
  {
   "cell_type": "markdown",
   "metadata": {},
   "source": [
    "## Mathematical functions\n",
    "- https://www.postgresql.org/docs/9.6/functions-math.html"
   ]
  },
  {
   "cell_type": "markdown",
   "metadata": {},
   "source": [
    "- __Mathematical operator__: New ID for an event, based off the customer_id and rental_id: <br></br>\n",
    "<br></br>\n",
    "*SELECT customer_id+rental_id as new_id <br></br>\n",
    "FROM payment*"
   ]
  },
  {
   "cell_type": "markdown",
   "metadata": {},
   "source": [
    "- __Mathematical function__: What is the average payment to 2 decimal places: <br></br>\n",
    "<br></br>\n",
    "*SELECT round(AVG(amount),2) <br></br>\n",
    "FROM payment*"
   ]
  },
  {
   "cell_type": "markdown",
   "metadata": {},
   "source": [
    "# String functions\n",
    "- Used for string-formatting\n",
    "    - https://www.postgresql.org/docs/9.6/functions-string.html"
   ]
  },
  {
   "cell_type": "markdown",
   "metadata": {},
   "source": [
    "- Return the length of the characters in every row, of a given column: <br>\n",
    "<br></br>\n",
    "*SELECT first_name, char_length(first_name) <br></br>\n",
    "FROM customer*"
   ]
  },
  {
   "cell_type": "markdown",
   "metadata": {},
   "source": [
    "- Return the row values of a selected column as upper case letters: <br>\n",
    "<br></br>\n",
    "*SELECT upper(first_name) <br>\n",
    "FROM customer*"
   ]
  },
  {
   "cell_type": "markdown",
   "metadata": {},
   "source": [
    "- Return the row values of a selected column as lower case letters: <br>\n",
    "<br></br>\n",
    "*SELECT lower(first_name) <br></br>\n",
    "FROM customer*"
   ]
  },
  {
   "cell_type": "markdown",
   "metadata": {},
   "source": [
    "# Subquery\n",
    "- Allow for the use of multiple SELECT statements\n",
    "    - Can be understood as a query within a query"
   ]
  },
  {
   "cell_type": "markdown",
   "metadata": {},
   "source": [
    "- __Non-subquery method__: Find the films that have a higher rental rate than teh average rental rate <br></br>\n",
    "<br></br>\n",
    "- Find the average rental rate by using SELECT and AVG <br></br>\n",
    "<br></br>\n",
    "*SELECT AVG(rental_rate) FROM film* <br>\n",
    "<br></br>\n",
    "- Using this result find the films using another SELECT statement <br></br>\n",
    "<br></br>\n",
    "*SELECT title, rental_rate <br></br>\n",
    "FROM film <br></br>\n",
    "WHERE rental_rate > 2.98* <br></br>\n",
    "<br></br>\n",
    "- The result of the first query must be remembered\n",
    "- A second query must also be undertaken"
   ]
  },
  {
   "cell_type": "markdown",
   "metadata": {},
   "source": [
    "## Subquery syntax\n",
    "- Place second query in brackets\n",
    "- insert it into the WHERE clause, as an expression"
   ]
  },
  {
   "cell_type": "markdown",
   "metadata": {},
   "source": [
    "- __Subquery method__: Find the films that have a higher rental rate than teh average rental rate\n",
    "<br></br>\n",
    "<br></br>\n",
    "*SELECT film_id,title, rental_rate <br></br>\n",
    "FROM film <br>\n",
    "WHERE rental_rate > (SELECT AVG(rental_rate) FROM film)* <br></br>"
   ]
  },
  {
   "cell_type": "markdown",
   "metadata": {},
   "source": [
    "# Self Join\n",
    "- Joinin a table to itself\n",
    "- When combining rows with other rows in the same table\n",
    "    - A table alias must be must be used to help SQL distinguish the left and right tables"
   ]
  },
  {
   "cell_type": "markdown",
   "metadata": {},
   "source": [
    "## Self join syntax"
   ]
  },
  {
   "cell_type": "markdown",
   "metadata": {},
   "source": [
    "*SELECT e1.employee_name <br></br>\n",
    "FROM employee AS e1, employee AS e2 <br></br>\n",
    "WHERE e1.employee_location = e2.employee_location <br></br>\n",
    "AND e2.employee_name = \"Joe\"* <br></br>"
   ]
  },
  {
   "cell_type": "markdown",
   "metadata": {},
   "source": [
    "- Return users if their first name matches with another users last name: <br></br>\n",
    "<br></br>\n",
    "*SELECT a.customer_id,a.first_name,a.last_name,b.customer_id,b.first_name,b.last_name <br></br>\n",
    "FROM customer AS a,customer AS b  <br></br>\n",
    "WHERE a.first_name = b.last_name*"
   ]
  },
  {
   "cell_type": "markdown",
   "metadata": {},
   "source": [
    "- N.b The same task can be completed using a JOIN statement: <br></br>\n",
    "<br></br>\n",
    "*SELECT a.customer_id,a.first_name,a.last_name,b.customer_id,b.first_name,b.last_name <br></br>\n",
    "FROM customer AS a <br></br>\n",
    "JOIN customer AS b  <br></br>\n",
    "ON a.first_name = b.last_name*"
   ]
  },
  {
   "cell_type": "markdown",
   "metadata": {},
   "source": [
    "- In a scenario where all the results whether there is a match or not, should be displayed: <br></br>\n",
    "<br></br>\n",
    "*SELECT a.customer_id,a.first_name,a.last_name,b.customer_id,b.first_name,b.last_name <br></br>\n",
    "FROM customer AS a <br></br>\n",
    "LEFT JOIN customer AS b  <br></br>\n",
    "ON a.first_name = b.last_name*"
   ]
  },
  {
   "cell_type": "code",
   "execution_count": null,
   "metadata": {},
   "outputs": [],
   "source": []
  }
 ],
 "metadata": {
  "kernelspec": {
   "display_name": "Python 3",
   "language": "python",
   "name": "python3"
  },
  "language_info": {
   "codemirror_mode": {
    "name": "ipython",
    "version": 3
   },
   "file_extension": ".py",
   "mimetype": "text/x-python",
   "name": "python",
   "nbconvert_exporter": "python",
   "pygments_lexer": "ipython3",
   "version": "3.7.4"
  }
 },
 "nbformat": 4,
 "nbformat_minor": 2
}
