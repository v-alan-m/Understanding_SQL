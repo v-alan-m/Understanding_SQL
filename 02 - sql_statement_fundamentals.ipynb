{
 "cells": [
  {
   "cell_type": "markdown",
   "metadata": {},
   "source": [
    "# SQL Statement Fundamentals"
   ]
  },
  {
   "cell_type": "markdown",
   "metadata": {},
   "source": [
    "## SELECT"
   ]
  },
  {
   "cell_type": "markdown",
   "metadata": {},
   "source": [
    "### Basic format\n",
    "SELECT column1,column2,... FROM table_name\n",
    "- Query data from all columns: SELECT * (only for use when handling small databases)"
   ]
  },
  {
   "cell_type": "markdown",
   "metadata": {},
   "source": [
    "#### Select all columns within a table\n",
    "\n",
    "- Click 'lightening symbol' to open the database\n",
    "- Write SELECT  *  FROM actor;\n",
    "    - Actor is one of the tables\n",
    "        - Found within the current database using: database_name > Schemas > Tables > table_name \n",
    "    - Insert \";\" at end to end the query"
   ]
  },
  {
   "cell_type": "markdown",
   "metadata": {},
   "source": [
    "#### Select specific column(s) within a table\n",
    "\n",
    "- Click 'lightening symbol' to open the database\n",
    "- Write:"
   ]
  },
  {
   "cell_type": "markdown",
   "metadata": {},
   "source": [
    "SELECT  first_name,last_name <br>\n",
    "FROM actor;"
   ]
  },
  {
   "cell_type": "markdown",
   "metadata": {},
   "source": [
    "## SELECT DISTINCT\n",
    "- Check for distinct values with a column, of a database"
   ]
  },
  {
   "cell_type": "markdown",
   "metadata": {},
   "source": [
    "SELECT DISTINCT release_year <br>\n",
    "FROM film;"
   ]
  },
  {
   "cell_type": "markdown",
   "metadata": {},
   "source": [
    "## SELECT WHERE\n",
    "- Filter the rows returned form the SELECT statement"
   ]
  },
  {
   "cell_type": "markdown",
   "metadata": {},
   "source": [
    "SELECT coloumn1, coloumn2... coloumn_n <br>\n",
    "FROM TABLE <br>\n",
    "WHERE conditions;"
   ]
  },
  {
   "cell_type": "markdown",
   "metadata": {},
   "source": [
    "Get all the customers whose first names are Jamie\n",
    "- HINT: Use the WHERE clause with the equal (=) operator as follows:\n",
    "\n",
    "SELECT last_name, first_name FROM customer  <br>\n",
    "WHERE first_name = 'Jamie';"
   ]
  },
  {
   "cell_type": "markdown",
   "metadata": {},
   "source": [
    "Select the customer's names whose first name is Jamie and the last name is Rice\n",
    "- HINT: Use the AND logical operaor to combines the two conditions:\n",
    "\n",
    "SELECT last_name, first_name FROM customer  <br>\n",
    "WHERE first_name = 'Jamie' AND last_name = 'Rice';"
   ]
  },
  {
   "cell_type": "markdown",
   "metadata": {},
   "source": [
    "Return who paid a rental amount less than or equal to 1 USD or more than and equal to 8 USD\n",
    "- HINT: Use the OR logical operaor and the less than <= and more than >= operators\n",
    "\n",
    "SELECT customer_id,amount,payment_date <br>\n",
    "FROM payment <br>\n",
    "WHERE amount <= 1 OR amount >= 8;"
   ]
  },
  {
   "cell_type": "markdown",
   "metadata": {},
   "source": [
    "## COUNT\n",
    "- Returns the number of rows that matches a specific condition, of the query"
   ]
  },
  {
   "cell_type": "markdown",
   "metadata": {},
   "source": [
    "Format: <br>\n",
    "SELECT COUNT(*) FROM table"
   ]
  },
  {
   "cell_type": "markdown",
   "metadata": {},
   "source": [
    "- Count the number of rows within a specific column: <br>\n",
    "SELECT COUNT(column) FROM table; <br>\n",
    "<br>\n",
    "- E.g: <br>\n",
    "SELECT COUNT(*) FROM payment;"
   ]
  },
  {
   "cell_type": "markdown",
   "metadata": {},
   "source": [
    "- Count the number of distinct rows within a specific column: <br>\n",
    "SELECT COUNT(DISTINCT column) FROM table; <br>\n",
    "<br>\n",
    "- E.g: <br>\n",
    "SELECT COUNT(DISTINCT amount) FROM payment;\n",
    "    - A specific column name must be specifed"
   ]
  },
  {
   "cell_type": "markdown",
   "metadata": {},
   "source": [
    "## LIMIT\n",
    "- Allows you to limit the number of rows you get back after a query\n",
    "    - Useful when you need to see all the coloumns but not all the rows\n",
    "- Goes at the end of the query"
   ]
  },
  {
   "cell_type": "markdown",
   "metadata": {},
   "source": [
    "- E.g Display the first 5 rows from the customer table: <br>\n",
    "<br>\n",
    "SELECT * FROM customer <br>\n",
    "LIMIT 5"
   ]
  },
  {
   "cell_type": "markdown",
   "metadata": {},
   "source": [
    "## ORDER BY\n",
    "- When queriying data from a table, the rows are returned by insertion order\n",
    "- To sort the result-set use the ORDER BY clause in the SELECT statement\n",
    "- The ascending or descending order can be specified by coloumn"
   ]
  },
  {
   "cell_type": "markdown",
   "metadata": {},
   "source": [
    "- Sort column_1 and column_2 from table_name into an ascending order using column_1:\n",
    "\n",
    "SELECT column1,column2 FROM table_name <br>\n",
    "ORDER BY column_1 ASC;"
   ]
  },
  {
   "cell_type": "markdown",
   "metadata": {},
   "source": [
    "- Sort column_1 and column_2 from table_name into a descending order using column_1:\n",
    "\n",
    "SELECT column1,column2 FROM table_name <br>\n",
    "ORDER BY column_1 DESC;"
   ]
  },
  {
   "cell_type": "markdown",
   "metadata": {},
   "source": [
    "- Sort first_name and last_name from customer into an ascending order using first_name: <br> \n",
    "<br>\n",
    "SELECT * FROM customer <br>\n",
    "ORDER BY first_name ASC;"
   ]
  },
  {
   "cell_type": "markdown",
   "metadata": {},
   "source": [
    "- Sort the result of the query above by last_name in descending order\n",
    "    - The first column will be in ascending order, the second column will be in descending order as long as the items in the first column are still in ascending order <br>\n",
    "\n",
    "SELECT * FROM customer <br>\n",
    "ORDER BY first_name ASC, last_name DESC;"
   ]
  },
  {
   "cell_type": "markdown",
   "metadata": {},
   "source": [
    "- List the top ten highest paying customers IDs: <br>\n",
    "<br>\n",
    "SELECT customer_id, amount FROM payment <br>\n",
    "ORDER BY amount DESC <br>\n",
    "LIMIT 10"
   ]
  },
  {
   "cell_type": "markdown",
   "metadata": {},
   "source": [
    "## BETWEEN\n",
    "- To match value against a range of values \n",
    "- Format: <br>\n",
    "value BETWEEN low AND high <br>\n",
    "or <br>\n",
    "value NOT BETWEEN low AND high <br>\n",
    "or <br>\n",
    "value >= low AND value <= high;"
   ]
  },
  {
   "cell_type": "markdown",
   "metadata": {},
   "source": [
    "- List the customers IDs for payments between 8 and 9USD: <br>\n",
    "<br>\n",
    "SELECT customer_id,amount FROM payment <br>\n",
    "WHERE amount BETWEEN 8 AND 9;"
   ]
  },
  {
   "cell_type": "markdown",
   "metadata": {},
   "source": [
    "- List the customers IDs for payments not between 8 and 9USD: <br>\n",
    "<br>\n",
    "SELECT customer_id,amount FROM payment <br>\n",
    "WHERE amount NOT BETWEEN 8 AND 9;"
   ]
  },
  {
   "cell_type": "markdown",
   "metadata": {},
   "source": [
    "- Payments between a range of dates: <br>\n",
    "<br>\n",
    "SELECT amount, payment date FROM payment <br>\n",
    "WHERE payment_date BETWEEN '2007-02-07' AND '2007-02-15';"
   ]
  },
  {
   "cell_type": "markdown",
   "metadata": {},
   "source": [
    "# IN\n",
    "- Use with the WHERE clause to check if a value matches any value in a list of values\n",
    "- Format: <br>\n",
    "value IN (value1,value2,...)\n",
    "- Can also be in the result of a SELECT statement (sub-query): <br>\n",
    "value IN (SELECT value FROM tbl_name)\n",
    "- Not IN: <br>\n",
    "value NOT IN (value1,value2,value3,,...)\n",
    "- A quick way of writing OR statements"
   ]
  },
  {
   "cell_type": "markdown",
   "metadata": {},
   "source": [
    "- Customer IDs from the retal table, that are 1 or a 2: <br>\n",
    "<br>\n",
    "SELECT customer_id,rental_id,return_date <br>\n",
    "FROM rental <br>\n",
    "WHERE customer_id IN (1,2) <br>\n",
    "ORDER BY return_date DESC;"
   ]
  },
  {
   "cell_type": "markdown",
   "metadata": {},
   "source": [
    "- Customer IDs from the retal table, that are not 1 or a 2: <br>\n",
    "<br>\n",
    "SELECT customer_id,rental_id,return_date <br>\n",
    "FROM rental <br>\n",
    "WHERE customer_id NOT IN (1,2) <br>\n",
    "ORDER BY return_date DESC;"
   ]
  },
  {
   "cell_type": "markdown",
   "metadata": {},
   "source": [
    "- Customer IDs from the retal table, that are 7,13 or 10: <br>\n",
    "<br>\n",
    "SELECT customer_id,rental_id,return_date <br>\n",
    "FROM rental <br>\n",
    "WHERE customer_id IN (7,13,10) <br>\n",
    "ORDER BY return_date DESC;"
   ]
  },
  {
   "cell_type": "markdown",
   "metadata": {},
   "source": [
    "- All the rental prices when the price is either 7.99 or 8.99USD: <br>\n",
    "<br>\n",
    "SELECT * FROM payment<br>\n",
    "WHERE amount IN (7.99,8.99);"
   ]
  },
  {
   "cell_type": "markdown",
   "metadata": {},
   "source": [
    "# LIKE\n",
    "- Use of complete pattern matching of inforamtion fields\n",
    "    - Search with only partial knowledge of the data within the chosen field\n",
    "- Format: <br>\n",
    "WHERE first_name LIKE 'Jen%'\n",
    "- Use % for matching any sequence of characters\n",
    "- Use _ for matching any single character"
   ]
  },
  {
   "cell_type": "markdown",
   "metadata": {},
   "source": [
    "- Search for all the first names that start with \"Jen\": <br>\n",
    "<br>\n",
    "SELECT first_name,last_name <br>\n",
    "FROM customer <br>\n",
    "WHERE first_name LIKE 'Jen%';"
   ]
  },
  {
   "cell_type": "markdown",
   "metadata": {},
   "source": [
    "- Search for all the first names ending with a \"y\": <br>\n",
    "<br>\n",
    "SELECT first_name,last_name <br>\n",
    "FROM customer <br>\n",
    "WHERE first_name LIKE '%y';"
   ]
  },
  {
   "cell_type": "markdown",
   "metadata": {},
   "source": [
    "- Search for all the first names with \"er\" somewhere within the first name: <br>\n",
    "<br>\n",
    "SELECT first_name,last_name <br>\n",
    "FROM customer <br>\n",
    "WHERE first_name LIKE '%er%';"
   ]
  },
  {
   "cell_type": "markdown",
   "metadata": {},
   "source": [
    "- Search for all the first names where after the first character the next 3 letters are \"her\" follwed by any sequence of letters, irrespective of length: <br>\n",
    "<br>\n",
    "SELECT first_name,last_name <br>\n",
    "FROM customer <br>\n",
    "WHERE first_name LIKE '_her%';"
   ]
  },
  {
   "cell_type": "markdown",
   "metadata": {},
   "source": [
    "- Search for all the first names that do not start with \"Jen\": <br>\n",
    "<br>\n",
    "SELECT first_name,last_name <br>\n",
    "FROM customer <br>\n",
    "WHERE first_name NOT LIKE 'Jen%';"
   ]
  },
  {
   "cell_type": "markdown",
   "metadata": {},
   "source": [
    "- Search for all the first names that startwith \"Bar\" without considering case: <br>\n",
    "<br>\n",
    "SELECT first_name,last_name <br>\n",
    "FROM customer <br>\n",
    "WHERE first_name NOT ILIKE 'Bar%';"
   ]
  },
  {
   "cell_type": "code",
   "execution_count": null,
   "metadata": {},
   "outputs": [],
   "source": []
  }
 ],
 "metadata": {
  "kernelspec": {
   "display_name": "Python 3",
   "language": "python",
   "name": "python3"
  },
  "language_info": {
   "codemirror_mode": {
    "name": "ipython",
    "version": 3
   },
   "file_extension": ".py",
   "mimetype": "text/x-python",
   "name": "python",
   "nbconvert_exporter": "python",
   "pygments_lexer": "ipython3",
   "version": "3.7.4"
  }
 },
 "nbformat": 4,
 "nbformat_minor": 2
}
