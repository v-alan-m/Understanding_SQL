{
 "cells": [
  {
   "cell_type": "markdown",
   "metadata": {},
   "source": [
    "__Q1:__ How can you retrieve all the information from the cd.facilities table?"
   ]
  },
  {
   "cell_type": "raw",
   "metadata": {},
   "source": [
    "SELECT *\n",
    "FROM cd.facilities"
   ]
  },
  {
   "cell_type": "markdown",
   "metadata": {},
   "source": [
    "__Q2:__ You want to print out a list of all of the facilities and their cost to members. How would you retrieve a list of only facility names and costs?"
   ]
  },
  {
   "cell_type": "raw",
   "metadata": {},
   "source": [
    "SELECT name, membercost\n",
    "FROM cd.facilities"
   ]
  },
  {
   "cell_type": "markdown",
   "metadata": {},
   "source": [
    "__Q3:__ How can you produce a list of facilities that charge a fee to members?"
   ]
  },
  {
   "cell_type": "raw",
   "metadata": {},
   "source": [
    "SELECT name\n",
    "FROM cd.facilities\n",
    "WHERE membercost > 0"
   ]
  },
  {
   "cell_type": "markdown",
   "metadata": {},
   "source": [
    "__Q4:__ How can you produce a list of facilities that charge a fee to members, and that fee is less than 1/50th of the monthly maintenance cost? Return the facid, facility name, member cost, and monthly maintenance of the facilities in question."
   ]
  },
  {
   "cell_type": "raw",
   "metadata": {},
   "source": [
    "SELECT facid, name, membercost, monthlymaintenance\n",
    "FROM cd.facilities\n",
    "WHERE membercost > 0 AND (membercost < 0.02 * monthlymaintenance)"
   ]
  },
  {
   "cell_type": "markdown",
   "metadata": {},
   "source": [
    "__Q5:__ How can you produce a list of all facilities with the word 'Tennis' in their name?"
   ]
  },
  {
   "cell_type": "raw",
   "metadata": {},
   "source": [
    "SELECT name\n",
    "FROM cd.facilities\n",
    "WHERE name LIKE '%Tennis%'"
   ]
  },
  {
   "cell_type": "markdown",
   "metadata": {},
   "source": [
    "__Q6:__ How can you retrieve the details of facilities with ID 1 and 5? Try to do it without using the OR operator."
   ]
  },
  {
   "cell_type": "raw",
   "metadata": {},
   "source": [
    "SELECT *\n",
    "FROM cd.facilities\n",
    "WHERE facid in (1,5)"
   ]
  },
  {
   "cell_type": "markdown",
   "metadata": {},
   "source": [
    "__Q7:__ How can you produce a list of members who joined after the start of September 2012? Return the memid, surname, firstname, and joindate of the members in question."
   ]
  },
  {
   "cell_type": "raw",
   "metadata": {},
   "source": [
    "SELECT memid, surname, firstname, joindate\n",
    "FROM cd.members\n",
    "WHERE joindate >= '2012-09-01'"
   ]
  },
  {
   "cell_type": "markdown",
   "metadata": {},
   "source": [
    "__Q8:__ How can you produce an ordered list of the first 10 surnames in the members table? The list must not contain duplicates."
   ]
  },
  {
   "cell_type": "raw",
   "metadata": {},
   "source": [
    "SELECT DISTINCT surname\n",
    "FROM cd.members\n",
    "ORDER BY surname\n",
    "LIMIT 10"
   ]
  },
  {
   "cell_type": "markdown",
   "metadata": {},
   "source": [
    "__Q9:__ You'd like to get the signup date of your last member. How can you retrieve this information?"
   ]
  },
  {
   "cell_type": "raw",
   "metadata": {},
   "source": [
    "SELECT MAX(joindate)\n",
    "FROM cd.members"
   ]
  },
  {
   "cell_type": "markdown",
   "metadata": {},
   "source": [
    "__Q10:__ Produce a count of the number of facilities that have a cost to guests of 10 or more."
   ]
  },
  {
   "cell_type": "raw",
   "metadata": {},
   "source": [
    "SELECT COUNT(name)\n",
    "FROM cd.facilities\n",
    "WHERE guestcost >= 10"
   ]
  },
  {
   "cell_type": "markdown",
   "metadata": {},
   "source": [
    "__Q11:__ Produce a list of the total number of slots booked per facility in the month of September 2012. Produce an output table consisting of facility id and slots, sorted by the number of slots."
   ]
  },
  {
   "cell_type": "raw",
   "metadata": {},
   "source": [
    "SELECT facid, SUM(slots)\n",
    "FROM cd.bookings\n",
    "WHERE starttime >= '2012-09-01' AND starttime < '2012-10-01'\n",
    "GROUP BY facid\n",
    "ORDER BY SUM(slots)"
   ]
  },
  {
   "cell_type": "markdown",
   "metadata": {},
   "source": [
    "__Q12:__ Produce a list of facilities with more than 1000 slots booked. Produce an output table consisting of facility id and total slots, sorted by facility id."
   ]
  },
  {
   "cell_type": "raw",
   "metadata": {},
   "source": [
    "SELECT facid, SUM(slots)\n",
    "FROM cd.bookings\n",
    "GROUP BY facid\n",
    "HAVING SUM(slots) > 1000\n",
    "ORDER BY SUM(slots)"
   ]
  },
  {
   "cell_type": "markdown",
   "metadata": {},
   "source": [
    "__Q13:__ How can you produce a list of the start times for bookings for tennis courts, for the date '2012-09-21'? Return a list of start time and facility name pairings, ordered by the time."
   ]
  },
  {
   "cell_type": "raw",
   "metadata": {},
   "source": [
    "SELECT bks.starttime AS start, facs.name AS facility_name\n",
    "FROM cd.facilities AS facs\n",
    "JOIN cd.bookings bks\n",
    "ON facs.facid = bks.facid\n",
    "WHERE facs.facid IN (0,1)\n",
    "AND bks.starttime >= '2012-09-21' AND bks.starttime < '2012-09-22'\n",
    "ORDER BY bks.starttime"
   ]
  },
  {
   "cell_type": "markdown",
   "metadata": {},
   "source": [
    "__Q14:__ How can you produce a list of the start times for bookings by members named 'David Farrell'?"
   ]
  },
  {
   "cell_type": "raw",
   "metadata": {},
   "source": [
    "SELECT bks.starttime\n",
    "FROM cd.bookings bks\n",
    "JOIN cd.members mems\n",
    "ON mems.memid = bks.memid\n",
    "WHERE mems.firstname = 'David' \n",
    "AND mems.surname = 'Farrell'"
   ]
  },
  {
   "cell_type": "code",
   "execution_count": null,
   "metadata": {},
   "outputs": [],
   "source": []
  }
 ],
 "metadata": {
  "kernelspec": {
   "display_name": "Python 3",
   "language": "python",
   "name": "python3"
  },
  "language_info": {
   "codemirror_mode": {
    "name": "ipython",
    "version": 3
   },
   "file_extension": ".py",
   "mimetype": "text/x-python",
   "name": "python",
   "nbconvert_exporter": "python",
   "pygments_lexer": "ipython3",
   "version": "3.7.4"
  }
 },
 "nbformat": 4,
 "nbformat_minor": 2
}
