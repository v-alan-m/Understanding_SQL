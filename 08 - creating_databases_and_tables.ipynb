{
 "cells": [
  {
   "cell_type": "markdown",
   "metadata": {},
   "source": [
    "# Creating Databases and Tables"
   ]
  },
  {
   "cell_type": "markdown",
   "metadata": {},
   "source": [
    "## Data types"
   ]
  },
  {
   "cell_type": "markdown",
   "metadata": {},
   "source": [
    "- Boolean\n",
    "- Character\n",
    "- Number\n",
    "- Temporal\n",
    "- Special types\n",
    "- Arrays"
   ]
  },
  {
   "cell_type": "markdown",
   "metadata": {},
   "source": [
    "### Boolean\n",
    "- Can be assigned the value __TRUE__ or __FASLE__\n",
    "    - If the value is unknown, iteh value will be assigned as NULL\n",
    "- When declaring the data type use the keyword: \n",
    "    - __boolean__ or __bool__ <br></br>\n",
    "<br></br>\n",
    "- When __inserting__ data into a Boolean column, postgreSQL will convert it into the Boolean value\n",
    "    - E.g. *1, yes, y, true, t* are converted to __TRUE__\n",
    "    - E.g. *0, no, n, false, f* are converted to __FALSE__ <br></br>\n",
    "<br></br>\n",
    "- When __selecting__ data from a Boolean column postgreSQL will display:\n",
    "    - __TRUE__ as t\n",
    "    - __FLASE__ as f\n",
    "    - __NULL__ as (space)"
   ]
  },
  {
   "cell_type": "markdown",
   "metadata": {},
   "source": [
    "### Character\n",
    "- Single character: char <br></br>\n",
    "<br></br>\n",
    "- Fixed-length character strings: char(n) <br></br>\n",
    "<br></br>\n",
    "    - If the inserted string < length of the column\n",
    "        - PostgreSQL will pad spaces\n",
    "    - If the inserted string > length of the column\n",
    "        - PostgreSQL *will* issue an error <br></br>\n",
    "<br></br>\n",
    "- Variable-length character strings: varchar(n)\n",
    "    - If the inserted string < length of the column\n",
    "        - PostgreSQL *will not* pad spaces"
   ]
  },
  {
   "cell_type": "markdown",
   "metadata": {},
   "source": [
    "### Number\n",
    "- Integers\n",
    "    - Small integers (__smallint__), 2-byte signed integer, range (-32768,32768)\n",
    "    - Integers (__int__), 4-byte signed integer, range (-214783648,214783648)\n",
    "    - Serial is the same as integer\n",
    "        - Execpt PostgreSQL will populate values into the column automatically <br></br>\n",
    "<br></br>\n",
    "- Floating-point numbers\n",
    "    - __float(n)__ is a floating-point number \n",
    "        - Where __n__ has a precision up to 8-btyes\n",
    "    - __real__ or __float8__ is a double precision floating-point number \n",
    "        - With a precision of 8-btyes\n",
    "    - __numeric__ or __numeric(p,s)__ is a real number \n",
    "        - __p__: Digits before the decimal point\n",
    "        - __s__: Digits after the decimal point\n",
    "        - __numeric(p,)__: The exact number"
   ]
  },
  {
   "cell_type": "markdown",
   "metadata": {},
   "source": [
    "### Temporal\n",
    "- __date__: Stores date data\n",
    "- __time__: Stores time data\n",
    "- __timestamp__: Stores date and timedata\n",
    "- __interval__: Stores the difference in timestamps\n",
    "- __timestampz__: Stores both timestamps and timezone data"
   ]
  },
  {
   "cell_type": "markdown",
   "metadata": {},
   "source": [
    "## Primary and foreign keys"
   ]
  },
  {
   "cell_type": "markdown",
   "metadata": {},
   "source": [
    "### Primary keys\n",
    "- A column or a group of columns used to identify a row uniquely in a table  \n",
    "    - Defined using a primary key constraint  \n",
    "    - A table can only have *one* primary key <br><br>\n",
    "\n",
    "- Add the primary key when defining the table's structure:  \n",
    "    - __CREATE TABLE table_name (  \n",
    "      column_name data_type PRIMARY KEY,  \n",
    "      column_name data_type, ...)__"
   ]
  },
  {
   "cell_type": "markdown",
   "metadata": {},
   "source": [
    "### Foreign keys\n",
    "- Foreign keys\n",
    "    - A column or a group of columns that uniquely identifies a row, form another table\n",
    "        - The foreign key refers to the primary-key of another table\n",
    "<br></br><br></br>\n",
    "- Created using a foreign key constraint"
   ]
  },
  {
   "cell_type": "markdown",
   "metadata": {},
   "source": [
    "### Parent and child table\n",
    "- __Referencing/Child table__: contains the *foreign* key\n",
    "- __Referenced/Parent table__: The table that the foreign key references\n",
    "<br></br><br></br>\n",
    "- A table can have multiple foreign keys"
   ]
  },
  {
   "cell_type": "markdown",
   "metadata": {},
   "source": [
    "# Resource for creating tables"
   ]
  },
  {
   "cell_type": "raw",
   "metadata": {},
   "source": [
    "CREATE TABLE account(\n",
    "user_id serial PRIMARY KEY,\n",
    "username VARCHAR (50) UNIQUE NOT NULL,\n",
    "password VARCHAR (50) NOT NULL,\n",
    "email VARCHAR (355) UNIQUE NOT NULL,\n",
    "created_on TIMESTAMP NOT NULL,\n",
    "last_login TIMESTAMP\n",
    ");\n",
    "\n",
    "CREATE TABLE role(\n",
    "role_id serial PRIMARY KEY,\n",
    "role_name VARCHAR (255) UNIQUE NOT NULL\n",
    ");\n",
    "\n",
    "CREATE TABLE account_role (\n",
    "user_id integer NOT NULL,\n",
    "role_id integer NOT NULL,\n",
    "grant_date timestamp without time zone,\n",
    "PRIMARY KEY (user_id, role_id),\n",
    "\n",
    "CONSTRAINT account_role_role_id_fkey FOREIGN KEY (role_id)\n",
    "  REFERENCES role (role_id) MATCH SIMPLE\n",
    "  ON UPDATE NO ACTION ON DELETE NO ACTION,\n",
    "CONSTRAINT account_role_user_id_fkey FOREIGN KEY (user_id)\n",
    "  REFERENCES account (user_id) MATCH SIMPLE\n",
    "  ON UPDATE NO ACTION ON DELETE NO ACTION\n",
    ")"
   ]
  },
  {
   "cell_type": "markdown",
   "metadata": {},
   "source": [
    "## Create table syntax\n",
    "CREATE TABLE table_name  \n",
    "(column_name TYPE column_constraint, table_constraint)  \n",
    "INHERITS existing_table_name  "
   ]
  },
  {
   "cell_type": "markdown",
   "metadata": {},
   "source": [
    "- The INHERIT statement will give the new table, all the columns within the existing table and the columns defined in the CREATE TABLE statement"
   ]
  },
  {
   "cell_type": "markdown",
   "metadata": {},
   "source": [
    "### Column constraints\n",
    "- NOT NULL: The value of the column cannot be NULL  \n",
    "- UNIQUE: The value of the column must be unique, across the whole table  \n",
    "<br>\n",
    "- A column can have many NULL values as postgreSQL treats NULL values to be unique\n",
    "    - If a colunm has a UNIQUE constraint, that column can only have one NULL value  \n",
    "<br>\n",
    "- PRIMARY KEY - This constraint is a combination of NOT NULL and UNIQUE\n",
    "    - When defining one column use __column_level_contraint__\n",
    "    - When defining multiple columns use __table_level_contraint__  \n",
    "<br>\n",
    "- CHECK - Enables to check a condition when you insert or update data\n",
    "    - E.g. The values in a price column must be positive  \n",
    "<br>\n",
    "- REFERENECES - Create a contrain for the value of the column if it is present in another table\n",
    "    - E.g. Defining the foreign key(s)"
   ]
  },
  {
   "cell_type": "markdown",
   "metadata": {},
   "source": [
    "### Table constraints\n",
    "- Applies to the entire table not only a single column  \n",
    "<br>\n",
    "- UNIQUE (column_list):\n",
    "    -  Ensures that the column included within the () must be UNIQUE values  \n",
    "<br>\n",
    "- PRIMARY KEY (column_list):\n",
    "    - Define a PRIMARY KEY consisting of mulitple columns  \n",
    "<br>\n",
    "- CHECK (condition): \n",
    "    -  CHECK condition when inserting or updating data  \n",
    "<br>\n",
    "- Reference: \n",
    "    - Create constraints for column-values that will be used as foreign keys"
   ]
  },
  {
   "cell_type": "markdown",
   "metadata": {},
   "source": [
    "### Creating a new database\n",
    "- Right click databases > Create > Database > Name database > save"
   ]
  },
  {
   "cell_type": "markdown",
   "metadata": {},
   "source": [
    "#### Create a table named account, within learning db\n",
    "CREATE TABLE account(  \n",
    "user_id serial PRIMARY KEY,  \n",
    "username VARCHAR(50) UNIQUE NOT NULL,  \n",
    "password VARCHAR(50) NOT NULL,  \n",
    "email VARCHAR(335) UNIQUE NOT NULL,  \n",
    "created_on TIMESTAMP NOT NULL,  \n",
    "last_login TIMESTAMP);"
   ]
  },
  {
   "cell_type": "markdown",
   "metadata": {},
   "source": [
    "#### Create a table named role, within learning db\n",
    "CREATE TABLE role(  \n",
    "role_id serial PRIMARY KEY,  \n",
    "role_name VARCHAR(255) UNIQUE NOT NULL  \n",
    ");"
   ]
  },
  {
   "cell_type": "markdown",
   "metadata": {},
   "source": [
    "#### Create a table named account_role, within learning db\n",
    "CREATE TABLE account_role(  \n",
    "user_id integer NOT NULL,  \n",
    "role_id integer NOT NULL,  \n",
    "grants_date timestamp without time zone,  \n",
    "PRIMARY KEY(user_id, role_id),  \n",
    "<br>\n",
    "CONSTRAINT account_role_role_id_fkey FOREIGN KEY (role_id)  \n",
    "&nbsp; REFERENCES role (role_id) MATCH SIMPLE  \n",
    "&nbsp; ON UPDATE NO ACTION ON DELETE NO ACTION,  \n",
    "CONSTRAINT account_role_user_id_fkey FOREIGN KEY (user_id)  \n",
    "&nbsp; REFERENCES account (user_id) MATCH SIMPLE  \n",
    "&nbsp; ON UPDATE NO ACTION ON DELETE NO ACTION  \n",
    ")"
   ]
  },
  {
   "cell_type": "markdown",
   "metadata": {},
   "source": [
    "## Insert\n",
    "- The INSERT statement allows you to insert one or more rows into a table at a time"
   ]
  },
  {
   "cell_type": "markdown",
   "metadata": {},
   "source": [
    "###  Syntax\n",
    "#### Add one row\n",
    "__INSERT INTO table_name___(column1,column2,...)  \n",
    "__VALUES__(value1,value2,...)\n",
    "#### Add mulitple rows\n",
    "__INSERT INTO table_name___(column1,column2,...)  \n",
    "__VALUES__(value1,value2,...),  \n",
    "&emsp; &emsp; &emsp; (value1,value2,...),  \n",
    "&emsp; &emsp; &emsp; ...  \n",
    "#### Insert date from another table\n",
    "__INSERT INTO table_name___  \n",
    "__SELECT__ column1,column2,  \n",
    "__FROM__ another_table  \n",
    "__WHERE__ condition  \n",
    "#### Duplicate the same schema and structure of an existing table\n",
    "__CREATE TABLE__ new_table_name LIKE (old_table_name) "
   ]
  },
  {
   "cell_type": "markdown",
   "metadata": {},
   "source": [
    "## Update\n",
    "- Update existing data in a table"
   ]
  },
  {
   "cell_type": "markdown",
   "metadata": {},
   "source": [
    "###  Syntax\n",
    "#### Change the values in one/mulitple columns\n",
    "__UPDATE table_name__  \n",
    "__SET__ column1 = value1,  \n",
    "&emsp; &emsp;column2 = value2,  \n",
    "__WHERE__ condition  "
   ]
  },
  {
   "cell_type": "markdown",
   "metadata": {},
   "source": [
    "## Delete\n",
    "- Delete rows within a table"
   ]
  },
  {
   "cell_type": "markdown",
   "metadata": {},
   "source": [
    "###  Syntax\n",
    "#### Delete  row(s)\n",
    "__DELETE FROM__ table_name  \n",
    "__WHERE__ condition  \n",
    "#### show the delete row(s)\n",
    "__DELETE ROM__ table_name  \n",
    "__WHERE__ condition  \n",
    "__RETURNING__ *"
   ]
  },
  {
   "cell_type": "markdown",
   "metadata": {},
   "source": [
    "## Alter table\n",
    "- Change an existing table's structure"
   ]
  },
  {
   "cell_type": "markdown",
   "metadata": {},
   "source": [
    "###  Syntax\n",
    "__ALTER TABLE__ table_name __action__  \n",
    "#### Actions\n",
    "- __ADD COLUMN__, __DROP COLUMN__, __RENAME COLUMN__\n",
    "- Set default value for the column\n",
    "- __ADD CONTRAINT__\n",
    "- Add __CHECK__ constraint to a column\n",
    "- __RENAME TO__"
   ]
  },
  {
   "cell_type": "markdown",
   "metadata": {},
   "source": [
    "### Create table to alter\n",
    "__CREATE TABlE__ link(  \n",
    "link_id serial __PRIMARY KEY__,  \n",
    "title VARCHAR(512) __NOT__ NULL,  \n",
    "url VARCHAR(1024) __NOT__ NULL __UNIQUE__  \n",
    ")\n",
    "#### Add column\n",
    "- __ALTER TABLE__ link __ADD COLUMN__ active boolean <br></br> <br></br>\n",
    "\n",
    "#### Remove/drop column\n",
    "- __ALTER TABLE__ link __DROP COLUMN__ active <br></br> <br></br>\n",
    "\n",
    "#### Rename column\n",
    "- __ALTER TABLE__ link __RENAME COLUMN__ title __TO__ new_title <br></br> <br></br>\n",
    "\n",
    "#### Rename table\n",
    "- __ALTER TABLE__ link __RENAME TO__ url_table <br></br> <br></br>\n"
   ]
  },
  {
   "cell_type": "markdown",
   "metadata": {},
   "source": [
    "## Drop table\n",
    "- Change an existing table's structure"
   ]
  },
  {
   "cell_type": "markdown",
   "metadata": {},
   "source": [
    "### Syntax\n",
    "__DROP TABLE IF EXISTS__ table_name"
   ]
  },
  {
   "cell_type": "markdown",
   "metadata": {},
   "source": [
    "## Check consraint\n",
    "- Uses a Boolean expression to evaluate if the values in a column meet a requirement\n",
    "- If the values pass the CHECK they will be inserted/updated"
   ]
  },
  {
   "cell_type": "markdown",
   "metadata": {},
   "source": [
    "### Create table with a CHECK statement\n",
    "__CREATE TABlE__ new_users(  \n",
    "id serial __PRIMARY KEY__,  \n",
    "first_name VARCHAR(50),  \n",
    "birth_date __DATE__ __CHECK__(birth_date > '1900-01-01'),  \n",
    "join_date __DATE__ __CHECK__(join_date > birth_date),  \n",
    "salary __integer__ __CHECK__(salary > 0)  \n",
    ")\n",
    "#### Insert new columns and values, into the table\n",
    "__INSERT INTO__ new_users(first_name,birth_date,join_date,salary)  \n",
    "__VALUES__ ('Joe','1980-02-02','1990-04-04',99000) "
   ]
  },
  {
   "cell_type": "code",
   "execution_count": null,
   "metadata": {},
   "outputs": [],
   "source": []
  }
 ],
 "metadata": {
  "kernelspec": {
   "display_name": "Python 3",
   "language": "python",
   "name": "python3"
  },
  "language_info": {
   "codemirror_mode": {
    "name": "ipython",
    "version": 3
   },
   "file_extension": ".py",
   "mimetype": "text/x-python",
   "name": "python",
   "nbconvert_exporter": "python",
   "pygments_lexer": "ipython3",
   "version": "3.7.4"
  }
 },
 "nbformat": 4,
 "nbformat_minor": 2
}
