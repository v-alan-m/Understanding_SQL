{
 "cells": [
  {
   "cell_type": "markdown",
   "metadata": {},
   "source": [
    "# Typical Users"
   ]
  },
  {
   "cell_type": "markdown",
   "metadata": {},
   "source": [
    "## Analysts"
   ]
  },
  {
   "cell_type": "markdown",
   "metadata": {},
   "source": [
    "- Marketing\n",
    "- Business\n",
    "- Sales"
   ]
  },
  {
   "cell_type": "markdown",
   "metadata": {},
   "source": [
    "## Technical"
   ]
  },
  {
   "cell_type": "markdown",
   "metadata": {},
   "source": [
    "- Data scientist\n",
    "- Software engineers\n",
    "- Web Developers"
   ]
  },
  {
   "cell_type": "markdown",
   "metadata": {},
   "source": [
    "### Speadsheets"
   ]
  },
  {
   "cell_type": "markdown",
   "metadata": {},
   "source": [
    "- One-time analysis\n",
    "- Quickly need to chart something out\n",
    "- Reasonable data set size\n",
    "- Ability for untrained people to work with data"
   ]
  },
  {
   "cell_type": "markdown",
   "metadata": {},
   "source": [
    "### Databases"
   ]
  },
  {
   "cell_type": "markdown",
   "metadata": {},
   "source": [
    "- Data integrity\n",
    "- Can handle very large amounts of data\n",
    "- Quickly combine different datasets together\n",
    "- Automate steps for re-use\n",
    "- Can support data for websites and applications"
   ]
  },
  {
   "cell_type": "markdown",
   "metadata": {},
   "source": [
    "SQL: Structured Query Language\n",
    "- Programming language used to communicate with databases\n",
    "- E.g.:"
   ]
  },
  {
   "cell_type": "code",
   "execution_count": null,
   "metadata": {},
   "outputs": [],
   "source": [
    "SELECT customer_id, first_name, last_name\n",
    "FROM sales\n",
    "ORDER BY first_name"
   ]
  },
  {
   "cell_type": "markdown",
   "metadata": {},
   "source": [
    "#### Install Software"
   ]
  },
  {
   "cell_type": "markdown",
   "metadata": {},
   "source": [
    "- pgadmin: https://www.pgadmin.org/\n",
    "- postgresql: https://www.postgresql.org/"
   ]
  },
  {
   "cell_type": "markdown",
   "metadata": {},
   "source": [
    "### Create Databases"
   ]
  },
  {
   "cell_type": "markdown",
   "metadata": {},
   "source": [
    "On 'Broswer' menu:\n",
    "- Right Click 'Databases' \n",
    "- Click 'Create' \n",
    "- Click 'Database' \n",
    "    - name and apply settings \n",
    "- Click 'save' \n",
    "    - the newly named databse wil appear in the menu"
   ]
  },
  {
   "cell_type": "markdown",
   "metadata": {},
   "source": [
    "### Restore Database"
   ]
  },
  {
   "cell_type": "markdown",
   "metadata": {},
   "source": [
    "- Right click on the database that is to be restored \n",
    "- Click 'Restore' (restore is used to ensure that the current data is within that database) \n",
    "- Enter the fie location into 'Filename' (use the 3-dot button to navigate)\n",
    "- Switch from the 'General' tab to the 'Restore Options' tab\n",
    "    - Within 'Sections', toggle the following option on:\n",
    "        - Pre-data\n",
    "        - Post-data\n",
    "        - Data\n",
    "- Right click on the database that is to be restored and click 'Refresh'"
   ]
  },
  {
   "cell_type": "markdown",
   "metadata": {},
   "source": [
    "### View the database (Query Tool)"
   ]
  },
  {
   "cell_type": "markdown",
   "metadata": {},
   "source": [
    "- Right click on the database to be used, and click 'Query Tool'\n",
    "    - Most of the time will be spent here"
   ]
  },
  {
   "cell_type": "markdown",
   "metadata": {},
   "source": [
    "### First use of SQL: Sample Query"
   ]
  },
  {
   "cell_type": "markdown",
   "metadata": {},
   "source": [
    "Get all the information that's in the table called 'film':\n",
    "\n",
    "SELECT * FROM film;\n",
    "\n",
    "- Click the Lightening button to execute"
   ]
  },
  {
   "cell_type": "code",
   "execution_count": null,
   "metadata": {},
   "outputs": [],
   "source": []
  }
 ],
 "metadata": {
  "kernelspec": {
   "display_name": "Python 3",
   "language": "python",
   "name": "python3"
  },
  "language_info": {
   "codemirror_mode": {
    "name": "ipython",
    "version": 3
   },
   "file_extension": ".py",
   "mimetype": "text/x-python",
   "name": "python",
   "nbconvert_exporter": "python",
   "pygments_lexer": "ipython3",
   "version": "3.7.4"
  }
 },
 "nbformat": 4,
 "nbformat_minor": 2
}
