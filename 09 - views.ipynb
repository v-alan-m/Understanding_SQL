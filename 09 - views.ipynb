{
 "cells": [
  {
   "cell_type": "markdown",
   "metadata": {},
   "source": [
    "# Views\n",
    "- A database object of a stored query\n",
    "- A virtual table in PostgreSQL\n",
    "- A table that represents data from one of more tables, through the SELECT statement "
   ]
  },
  {
   "cell_type": "markdown",
   "metadata": {},
   "source": [
    "<img src='postgresql_views.png'>"
   ]
  },
  {
   "cell_type": "markdown",
   "metadata": {},
   "source": [
    "- A view does not store data physically\n",
    "- Provides a consistaent layer even if the columns of unsderlying tables change"
   ]
  },
  {
   "cell_type": "markdown",
   "metadata": {},
   "source": [
    "## Syntax\n",
    "__CREATE VIEW__ view_name __AS__ query  \n",
    "<br></br>\n",
    "### Query to save as a view\n",
    "__SELECT__ first_name, last_name, email, address, phone  \n",
    "__FROM__ customer  \n",
    "__JOIN__ address  \n",
    "__ON__ customer.address_id = address.address_id\n",
    "<br></br><br></br>\n",
    "### Save the query as a view\n",
    "__CREATE VIEW__ customer_info __AS__  \n",
    "__SELECT__ first_name, last_name, email, address, phone  \n",
    "__FROM__ customer  \n",
    "__JOIN__ address  \n",
    "__ON__ customer.address_id = address.address_id\n",
    "<br></br><br></br>\n",
    "### Query the view\n",
    "__SELECT__ *  \n",
    "__FROM__ customer_info\n",
    "<br></br><br></br>\n",
    "### Rename view\n",
    "__ALTER VIEW__ customer_info __RENAME__ to customer_master_list\n",
    "<br></br><br></br>\n",
    "### Delete/drop view\n",
    "__DROP VIEW IF EXISTS__ customer_master_list"
   ]
  },
  {
   "cell_type": "code",
   "execution_count": null,
   "metadata": {},
   "outputs": [],
   "source": []
  }
 ],
 "metadata": {
  "kernelspec": {
   "display_name": "Python 3",
   "language": "python",
   "name": "python3"
  },
  "language_info": {
   "codemirror_mode": {
    "name": "ipython",
    "version": 3
   },
   "file_extension": ".py",
   "mimetype": "text/x-python",
   "name": "python",
   "nbconvert_exporter": "python",
   "pygments_lexer": "ipython3",
   "version": "3.7.4"
  }
 },
 "nbformat": 4,
 "nbformat_minor": 2
}
