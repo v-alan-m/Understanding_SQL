{
 "cells": [
  {
   "cell_type": "markdown",
   "metadata": {},
   "source": [
    "# Group by statements"
   ]
  },
  {
   "cell_type": "markdown",
   "metadata": {},
   "source": [
    "## MIN MAX AVG SUM - Aggregate functions\n",
    "- Multiple data entries to a single output value"
   ]
  },
  {
   "cell_type": "markdown",
   "metadata": {},
   "source": [
    "- The average 'amount' paid from the 'payments' table:\n",
    "\n",
    "SELECT AVG(amount) FROM payment"
   ]
  },
  {
   "cell_type": "markdown",
   "metadata": {},
   "source": [
    "- Round the output value to 2 dp:\n",
    "\n",
    "SELECT ROUND(AVG(amount),2) FROM payment;"
   ]
  },
  {
   "cell_type": "markdown",
   "metadata": {},
   "source": [
    "- The MINIMUM 'amount' paid from the 'payments' table:\n",
    "\n",
    "SELECT MIN(amount) FROM payment;"
   ]
  },
  {
   "cell_type": "markdown",
   "metadata": {},
   "source": [
    "- The MAXIMUM 'amount' paid from the 'payments' table:\n",
    "\n",
    "SELECT MAX(amount) FROM payment;"
   ]
  },
  {
   "cell_type": "markdown",
   "metadata": {},
   "source": [
    "- The sum total of 'amount' paid from the 'payments' table:\n",
    "\n",
    "SELECT SUM(amount) FROM payment;"
   ]
  },
  {
   "cell_type": "markdown",
   "metadata": {},
   "source": [
    "## GROUP BY\n",
    "- A clause that divides the rows returned from the SELECT statement into groups\n",
    "- For each created group, you can apply an aggregate function to it:\n",
    "    - Calculate the sum, of the items, in a group\n",
    "    - Count the number of items, in that group"
   ]
  },
  {
   "cell_type": "markdown",
   "metadata": {},
   "source": [
    "- Syntax:\n",
    "\n",
    "SELECT column_1, some_aggregate_function(column_2) <br>\n",
    "FROM table_name <br>\n",
    "GROUP BY column 1;"
   ]
  },
  {
   "cell_type": "markdown",
   "metadata": {},
   "source": [
    "-  Grouping without another column to aggregate, only shows the distinct values:\n",
    "\n",
    "SELECT customer_id <br>\n",
    "FRO payment <br>\n",
    "GROUP BY customer_id;"
   ]
  },
  {
   "cell_type": "markdown",
   "metadata": {},
   "source": [
    "-  Including another column into SELECT, with an aggregate function attched to it\n",
    "\n",
    "SELECT customer_id, SUM(amount) <br>\n",
    "FROM payment <br>\n",
    "GROUP BY customer_id;\n",
    "\n",
    "- Sorts the result set by customer_id\n",
    "    - Adds up the amount that belongs to the same customer\n",
    "\n",
    "- This is to look into the total amount paid by each customer"
   ]
  },
  {
   "cell_type": "markdown",
   "metadata": {},
   "source": [
    "- Order the result of this GROUP BY clause, by SUM(amount) in decending order:\n",
    "\n",
    "SELECT customer_id, SUM(amount) <br>\n",
    "FROM payment <br>\n",
    "GROUP BY customer_id <br>\n",
    "ORDER BY SUM(amount) DESC;"
   ]
  },
  {
   "cell_type": "markdown",
   "metadata": {},
   "source": [
    "- Count the number of different film ratings\n",
    "    - The group by can be conducted on a single column\n",
    "\n",
    "SELECT rating, COUNT(rating) <br>\n",
    "FROM film <br>\n",
    "GROUP BY rating;"
   ]
  },
  {
   "cell_type": "markdown",
   "metadata": {},
   "source": [
    "- Out of all of the employees who made the most transactions, and who processed the most money\n",
    "\n",
    "SELECT staff_id, COUNT(amount), SUM(amount) <br>\n",
    "FROM payment <br>\n",
    "GROUP BY staff_id"
   ]
  },
  {
   "cell_type": "markdown",
   "metadata": {},
   "source": [
    "## HAVING\n",
    "- Usually used with the GROUP BY clause\n",
    "    - To filter group rows that do not satisfy a specified condition"
   ]
  },
  {
   "cell_type": "markdown",
   "metadata": {},
   "source": [
    "- Syntax:\n",
    "\n",
    "SELECT column_1, some_aggregate_function(column_2) <br>\n",
    "FROM table_name <br>\n",
    "GROUP BY column 1 <br>\n",
    "HAVING condition;"
   ]
  },
  {
   "cell_type": "markdown",
   "metadata": {},
   "source": [
    "## Difference betwenen WHERE and HAVING clauses\n",
    "\n",
    "- WHERE: sets the condtion for the individual rows, before the GROUP BY clause has been applied\n",
    "\n",
    "- HAVING: sets the condition for the grouped rows, after the GROUP BY clause has been applied"
   ]
  },
  {
   "cell_type": "markdown",
   "metadata": {},
   "source": [
    "- Customer that have spent more the 200 USD in total, over all of there transactions:\n",
    "\n",
    "SELECT customer_id, SUM(amount) <br>\n",
    "FROM payment <br>\n",
    "GROUP BY customer_id <br>\n",
    "HAVING SUM(amount) > 200"
   ]
  },
  {
   "cell_type": "markdown",
   "metadata": {},
   "source": [
    "- The rental rate for each rating, without using GROUP BY\n",
    "\n",
    "SELECT rating, rental_rate <br>\n",
    "FROM film <br>\n",
    "WHERE rating IN ('R','G','PG')"
   ]
  },
  {
   "cell_type": "markdown",
   "metadata": {},
   "source": [
    "- The ratings out of R,G and PG that have an average rental rate lower than 3 USD\n",
    "\n",
    "SELECT rating, AVG(rental_rate) <br>\n",
    "FROM film <br>\n",
    "WHERE rating IN ('R','G','PG') <br>\n",
    "GROUP BY rating <br>\n",
    "HAVING AVG(rental_rate) < 3;"
   ]
  },
  {
   "cell_type": "markdown",
   "metadata": {},
   "source": [
    "- Which customers are eligible for the platinum credit card. The requirement is that the customer has at least a total of 40 payment transactions to their customer ID\n",
    "\n",
    "SELECT customer_id, COUNT(amount) <br>\n",
    "FROM  payment <br>\n",
    "GROUP BY customer_id <br>\n",
    "HAVING COUNT(amount) > 40;"
   ]
  },
  {
   "cell_type": "markdown",
   "metadata": {},
   "source": [
    "- When grouped by rating which movie-ratings have an average rental duration of more than 5 days\n",
    "\n",
    "SELECT rating, AVG(rental_duration) <br>\n",
    "FROM film <br>\n",
    "GROUP BY rating <br>\n",
    "HAVING AVG(rental_duration) > 5;"
   ]
  },
  {
   "cell_type": "code",
   "execution_count": null,
   "metadata": {},
   "outputs": [],
   "source": []
  }
 ],
 "metadata": {
  "kernelspec": {
   "display_name": "Python 3",
   "language": "python",
   "name": "python3"
  },
  "language_info": {
   "codemirror_mode": {
    "name": "ipython",
    "version": 3
   },
   "file_extension": ".py",
   "mimetype": "text/x-python",
   "name": "python",
   "nbconvert_exporter": "python",
   "pygments_lexer": "ipython3",
   "version": "3.7.4"
  }
 },
 "nbformat": 4,
 "nbformat_minor": 2
}
