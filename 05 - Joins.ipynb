{
 "cells": [
  {
   "cell_type": "markdown",
   "metadata": {},
   "source": [
    "# Joins\n",
    "- Types of joins: INNER JOIN, OUTER JOIN and self-join"
   ]
  },
  {
   "cell_type": "markdown",
   "metadata": {},
   "source": [
    "## Links"
   ]
  },
  {
   "cell_type": "markdown",
   "metadata": {},
   "source": [
    "http://www.sql-join.com/ <br>\n",
    "https://blog.codinghorror.com/a-visual-explanation-of-sql-joins/"
   ]
  },
  {
   "cell_type": "markdown",
   "metadata": {},
   "source": [
    "# AS statement\n",
    "- Rename columns, or table selections, with an alias"
   ]
  },
  {
   "cell_type": "markdown",
   "metadata": {},
   "source": [
    "- Rename a column after applying an aggregate function to it \n",
    "    - Rename the resulting column from sum(amount), for a chosen GROUP BY variable, to total_spent\n",
    "\n",
    "SELECT customer_id, SUM(amount) AS total_spent <br>\n",
    "FROM payment <br>\n",
    "GROUP BY customer_id"
   ]
  },
  {
   "cell_type": "markdown",
   "metadata": {},
   "source": [
    "## Inner joins\n",
    "- Allows for the data from one table to be joined to the data in another table through relations\n",
    "- PKA column will join to the FKA\n",
    "    - PK: Primary key\n",
    "    - FK: Foregin key\n",
    "    - A: Indicates the column name to be joined"
   ]
  },
  {
   "cell_type": "markdown",
   "metadata": {},
   "source": [
    "<img src=\"PKA_and_FKA.png\">"
   ]
  },
  {
   "cell_type": "markdown",
   "metadata": {},
   "source": [
    "Syntax for INNER JOIN:\n",
    "\n",
    "SELECT A.pka, A.c1, B.pka, B.c2 <br>\n",
    "FROM A <br>\n",
    "INNER JOIN B ON A.pka = B.fka <br>\n",
    "\n",
    "- For each row in the A table, PostgreSQL scans the B table to check if there is any row that matches the condition: A.pka = B.fka"
   ]
  },
  {
   "cell_type": "markdown",
   "metadata": {},
   "source": [
    "- In case the table name is long, use a table alias. e.g housing_investments_table AS hit and refer to the column as hit.column_name"
   ]
  },
  {
   "cell_type": "markdown",
   "metadata": {},
   "source": [
    "- The INNER JOIN clause returns rows table A that have corresponding rows in the table B"
   ]
  },
  {
   "cell_type": "markdown",
   "metadata": {},
   "source": [
    "<img src=\"inner_join.png\">"
   ]
  },
  {
   "cell_type": "markdown",
   "metadata": {},
   "source": [
    "- Join the customer table to the payment table\n",
    "\n",
    "SELECT <br>\n",
    "    - _The table the column belongs should be specified_ <br>\n",
    "customer.customer_id, <br>\n",
    "    - _If the column table is only present in one of the tables, then it does not need to be specified_ <br>\n",
    "first_name, <br>\n",
    "last_name, <br>\n",
    "email, <br>\n",
    "payment_date, <br>\n",
    "    - _The field customer_id is present is both tables so the table must be specified_ <br>\n",
    "payment.customer_id <br>\n",
    "FROM customer <br>\n",
    "INNER JOIN payment <br>\n",
    "ON payment.customer_id = customer.customer_id <br>"
   ]
  },
  {
   "cell_type": "markdown",
   "metadata": {},
   "source": [
    "- Order by the customer_id:\n",
    "    - As it appears in both tables the table must be specified\n",
    "        - ORDER BY customer.customer_id\n",
    "\n",
    "- Order by first name:\n",
    "    - As it only appears in one table the table does not need to be specified\n",
    "        - ORDER BY first_name\n",
    "\n",
    "- Output the rows where the first name starts with an 'A'\n",
    "    - WHERE first_name LIKE 'A%'"
   ]
  },
  {
   "cell_type": "markdown",
   "metadata": {},
   "source": [
    "## Other joins"
   ]
  },
  {
   "cell_type": "markdown",
   "metadata": {},
   "source": [
    "<img src=\"join_types.png\">"
   ]
  },
  {
   "cell_type": "markdown",
   "metadata": {},
   "source": [
    "## OUTER join"
   ]
  },
  {
   "cell_type": "markdown",
   "metadata": {},
   "source": [
    "- See if there are film that are not in the inventory <br>\n",
    "<br>\n",
    "SELECT film.film_id,film.title,inventory_id <br>\n",
    "FROM film <br>\n",
    "LEFT JOIN inventory <br>\n",
    "ON inventory.film_id = film.film_id <br>\n",
    "<br>\n",
    "- The lines that do not have a number within the iventory field will be NULL <br>\n",
    "    - If the value is NULL then the cell will be empty, on query <br>\n",
    "<br>\n",
    "- Display results where titles are not in the inventory <br>\n",
    "<br>\n",
    "- By only displaying results where the inventory value is NULL <br>\n",
    "<br>\n",
    "WHERE inventory.film_id is NULL <br>\n",
    "<br>\n",
    "- Order the result by the film ID<br>\n",
    "<br>\n",
    "ORDER BY film.film_id"
   ]
  },
  {
   "cell_type": "markdown",
   "metadata": {},
   "source": [
    "SELECT film.film_id,film.title,inventory_id  \n",
    "FROM film  \n",
    "LEFT JOIN inventory  \n",
    "ON inventory.film_id = film.film_id  \n",
    "WHERE inventory.film_id is NULL  \n",
    "ORDER BY film.film_id"
   ]
  },
  {
   "cell_type": "markdown",
   "metadata": {},
   "source": [
    "## Union join\n",
    "- Combines the reult set of two or more SELECT statements into a single result"
   ]
  },
  {
   "cell_type": "markdown",
   "metadata": {},
   "source": [
    "Syntax: <br>\n",
    "<br>\n",
    "SELECT column_1, column_2\n",
    "<br>\n",
    "FROM tbl_name_1\n",
    "<br>\n",
    "UNION\n",
    "<br>\n",
    "SELECT column_1, column_2\n",
    "<br>\n",
    "FROM tbl_name_2"
   ]
  },
  {
   "cell_type": "markdown",
   "metadata": {},
   "source": [
    "- Rules for using UNION:\n",
    "    - Both queries must return the same number of columns\n",
    "    - The column that the UNION is applied to must be of the same data type"
   ]
  },
  {
   "cell_type": "markdown",
   "metadata": {},
   "source": [
    "- Important notes:\n",
    "    - UNION will remove all duplicate rows, unlss UNION All is used\n",
    "    - UNION may place the rows in the first query before, after or between the rows in the result set of second query\n",
    "        - Use ORDER BY to sort the rows in the combined result set by a specified column"
   ]
  },
  {
   "cell_type": "code",
   "execution_count": null,
   "metadata": {},
   "outputs": [],
   "source": []
  }
 ],
 "metadata": {
  "kernelspec": {
   "display_name": "Python 3",
   "language": "python",
   "name": "python3"
  },
  "language_info": {
   "codemirror_mode": {
    "name": "ipython",
    "version": 3
   },
   "file_extension": ".py",
   "mimetype": "text/x-python",
   "name": "python",
   "nbconvert_exporter": "python",
   "pygments_lexer": "ipython3",
   "version": "3.7.4"
  }
 },
 "nbformat": 4,
 "nbformat_minor": 2
}
